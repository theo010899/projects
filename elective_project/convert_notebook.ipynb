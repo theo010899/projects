{
 "cells": [
  {
   "cell_type": "code",
   "execution_count": 2,
   "id": "559f9ea0",
   "metadata": {},
   "outputs": [
    {
     "name": "stdout",
     "output_type": "stream",
     "text": [
      "[NbConvertApp] Converting notebook Recommendation_Systems_Learner_Notebook_Full_Code.ipynb to html\n",
      "[NbConvertApp] WARNING | Alternative text is missing on 1 image(s).\n",
      "[NbConvertApp] Writing 497616 bytes to Recommendation_Systems_Learner_Notebook_Full_Code.html\n"
     ]
    }
   ],
   "source": [
    "!jupyter nbconvert --to html 'Recommendation_Systems_Learner_Notebook_Full_Code.ipynb'"
   ]
  },
  {
   "cell_type": "code",
   "execution_count": null,
   "id": "f57f0bdb",
   "metadata": {},
   "outputs": [],
   "source": []
  }
 ],
 "metadata": {
  "kernelspec": {
   "display_name": "Python 3",
   "language": "python",
   "name": "python3"
  },
  "language_info": {
   "codemirror_mode": {
    "name": "ipython",
    "version": 3
   },
   "file_extension": ".py",
   "mimetype": "text/x-python",
   "name": "python",
   "nbconvert_exporter": "python",
   "pygments_lexer": "ipython3",
   "version": "3.10.4"
  }
 },
 "nbformat": 4,
 "nbformat_minor": 5
}
